{
 "cells": [
  {
   "cell_type": "code",
   "execution_count": 3,
   "id": "76a95106",
   "metadata": {},
   "outputs": [],
   "source": [
    "import numpy as np\n",
    "import pandas as pd\n",
    "import warnings\n",
    "warnings.filterwarnings('ignore')"
   ]
  },
  {
   "cell_type": "code",
   "execution_count": 4,
   "id": "89eec7b0",
   "metadata": {},
   "outputs": [],
   "source": [
    "df=pd.read_csv('data.csv')"
   ]
  },
  {
   "cell_type": "code",
   "execution_count": 5,
   "id": "50f27246",
   "metadata": {},
   "outputs": [
    {
     "data": {
      "text/html": [
       "<div>\n",
       "<style scoped>\n",
       "    .dataframe tbody tr th:only-of-type {\n",
       "        vertical-align: middle;\n",
       "    }\n",
       "\n",
       "    .dataframe tbody tr th {\n",
       "        vertical-align: top;\n",
       "    }\n",
       "\n",
       "    .dataframe thead th {\n",
       "        text-align: right;\n",
       "    }\n",
       "</style>\n",
       "<table border=\"1\" class=\"dataframe\">\n",
       "  <thead>\n",
       "    <tr style=\"text-align: right;\">\n",
       "      <th></th>\n",
       "      <th>Row ID</th>\n",
       "      <th>Year</th>\n",
       "      <th>Department Title</th>\n",
       "      <th>Payroll Department</th>\n",
       "      <th>Record Number</th>\n",
       "      <th>Job Class Title</th>\n",
       "      <th>Employment Type</th>\n",
       "      <th>Hourly or Event Rate</th>\n",
       "      <th>Projected Annual Salary</th>\n",
       "      <th>Q1 Payments</th>\n",
       "      <th>...</th>\n",
       "      <th>MOU Title</th>\n",
       "      <th>FMS Department</th>\n",
       "      <th>Job Class</th>\n",
       "      <th>Pay Grade</th>\n",
       "      <th>Average Health Cost</th>\n",
       "      <th>Average Dental Cost</th>\n",
       "      <th>Average Basic Life</th>\n",
       "      <th>Average Benefit Cost</th>\n",
       "      <th>Benefits Plan</th>\n",
       "      <th>Job Class Link</th>\n",
       "    </tr>\n",
       "  </thead>\n",
       "  <tbody>\n",
       "    <tr>\n",
       "      <th>0</th>\n",
       "      <td>111391</td>\n",
       "      <td>2014</td>\n",
       "      <td>Water And Power (DWP)</td>\n",
       "      <td>NaN</td>\n",
       "      <td>1412316577</td>\n",
       "      <td>Commercial Service Representative</td>\n",
       "      <td>Full Time</td>\n",
       "      <td>NaN</td>\n",
       "      <td>$70386.48</td>\n",
       "      <td>$16129.89</td>\n",
       "      <td>...</td>\n",
       "      <td>NaN</td>\n",
       "      <td>98</td>\n",
       "      <td>1230</td>\n",
       "      <td>NaN</td>\n",
       "      <td>$16842.08</td>\n",
       "      <td>$1282.61</td>\n",
       "      <td>$0.00</td>\n",
       "      <td>$18124.69</td>\n",
       "      <td>DWP</td>\n",
       "      <td>http://per.lacity.org/perspecs/1230.pdf</td>\n",
       "    </tr>\n",
       "    <tr>\n",
       "      <th>1</th>\n",
       "      <td>31732</td>\n",
       "      <td>2013</td>\n",
       "      <td>Police (LAPD)</td>\n",
       "      <td>4301.0</td>\n",
       "      <td>432728338</td>\n",
       "      <td>Police Officer I</td>\n",
       "      <td>Full Time</td>\n",
       "      <td>$25.12</td>\n",
       "      <td>$52450.56</td>\n",
       "      <td>$11331.00</td>\n",
       "      <td>...</td>\n",
       "      <td>POLICE OFFICERS UNIT</td>\n",
       "      <td>70</td>\n",
       "      <td>2214</td>\n",
       "      <td>A</td>\n",
       "      <td>$11651.40</td>\n",
       "      <td>$898.08</td>\n",
       "      <td>$191.04</td>\n",
       "      <td>$12740.52</td>\n",
       "      <td>Police</td>\n",
       "      <td>http://per.lacity.org/perspecs/2214.pdf</td>\n",
       "    </tr>\n",
       "    <tr>\n",
       "      <th>2</th>\n",
       "      <td>27697</td>\n",
       "      <td>2013</td>\n",
       "      <td>Police (LAPD)</td>\n",
       "      <td>4301.0</td>\n",
       "      <td>97182506</td>\n",
       "      <td>Police Officer II</td>\n",
       "      <td>Full Time</td>\n",
       "      <td>$42.77</td>\n",
       "      <td>$89303.76</td>\n",
       "      <td>$20036.32</td>\n",
       "      <td>...</td>\n",
       "      <td>POLICE OFFICERS UNIT</td>\n",
       "      <td>70</td>\n",
       "      <td>2214</td>\n",
       "      <td>2</td>\n",
       "      <td>$11651.40</td>\n",
       "      <td>$898.08</td>\n",
       "      <td>$191.04</td>\n",
       "      <td>$12740.52</td>\n",
       "      <td>Police</td>\n",
       "      <td>http://per.lacity.org/perspecs/2214.pdf</td>\n",
       "    </tr>\n",
       "    <tr>\n",
       "      <th>3</th>\n",
       "      <td>14136</td>\n",
       "      <td>2013</td>\n",
       "      <td>Harbor (Port of LA)</td>\n",
       "      <td>3201.0</td>\n",
       "      <td>950136941</td>\n",
       "      <td>Senior Security Officer</td>\n",
       "      <td>Full Time</td>\n",
       "      <td>$28.75</td>\n",
       "      <td>$60028.96</td>\n",
       "      <td>$15793.88</td>\n",
       "      <td>...</td>\n",
       "      <td>SUPV BLUE COLLAR</td>\n",
       "      <td>42</td>\n",
       "      <td>3184</td>\n",
       "      <td>0</td>\n",
       "      <td>$10710.24</td>\n",
       "      <td>$405.24</td>\n",
       "      <td>$11.40</td>\n",
       "      <td>$11126.88</td>\n",
       "      <td>City</td>\n",
       "      <td>http://per.lacity.org/perspecs/3184.pdf</td>\n",
       "    </tr>\n",
       "    <tr>\n",
       "      <th>4</th>\n",
       "      <td>91896</td>\n",
       "      <td>2014</td>\n",
       "      <td>Public Works - Sanitation</td>\n",
       "      <td>7024.0</td>\n",
       "      <td>3230003445</td>\n",
       "      <td>Senior Clerk Typist</td>\n",
       "      <td>Full Time</td>\n",
       "      <td>$30.92</td>\n",
       "      <td>$64553.13</td>\n",
       "      <td>$14700.00</td>\n",
       "      <td>...</td>\n",
       "      <td>CLERICAL UNIT</td>\n",
       "      <td>82</td>\n",
       "      <td>1368</td>\n",
       "      <td>0</td>\n",
       "      <td>$11000.40</td>\n",
       "      <td>$409.68</td>\n",
       "      <td>$11.40</td>\n",
       "      <td>$11421.48</td>\n",
       "      <td>City</td>\n",
       "      <td>http://per.lacity.org/perspecs/1368.pdf</td>\n",
       "    </tr>\n",
       "  </tbody>\n",
       "</table>\n",
       "<p>5 rows × 35 columns</p>\n",
       "</div>"
      ],
      "text/plain": [
       "   Row ID  Year           Department Title  Payroll Department Record Number  \\\n",
       "0  111391  2014      Water And Power (DWP)                 NaN    1412316577   \n",
       "1   31732  2013              Police (LAPD)              4301.0     432728338   \n",
       "2   27697  2013              Police (LAPD)              4301.0      97182506   \n",
       "3   14136  2013        Harbor (Port of LA)              3201.0     950136941   \n",
       "4   91896  2014  Public Works - Sanitation              7024.0    3230003445   \n",
       "\n",
       "                     Job Class Title Employment Type Hourly or Event Rate  \\\n",
       "0  Commercial Service Representative       Full Time                  NaN   \n",
       "1                   Police Officer I       Full Time               $25.12   \n",
       "2                  Police Officer II       Full Time               $42.77   \n",
       "3            Senior Security Officer       Full Time               $28.75   \n",
       "4                Senior Clerk Typist       Full Time               $30.92   \n",
       "\n",
       "  Projected Annual Salary Q1 Payments  ...             MOU Title  \\\n",
       "0               $70386.48   $16129.89  ...                   NaN   \n",
       "1               $52450.56   $11331.00  ...  POLICE OFFICERS UNIT   \n",
       "2               $89303.76   $20036.32  ...  POLICE OFFICERS UNIT   \n",
       "3               $60028.96   $15793.88  ...      SUPV BLUE COLLAR   \n",
       "4               $64553.13   $14700.00  ...         CLERICAL UNIT   \n",
       "\n",
       "  FMS Department Job Class Pay Grade Average Health Cost Average Dental Cost  \\\n",
       "0             98      1230       NaN           $16842.08            $1282.61   \n",
       "1             70      2214         A           $11651.40             $898.08   \n",
       "2             70      2214         2           $11651.40             $898.08   \n",
       "3             42      3184         0           $10710.24             $405.24   \n",
       "4             82      1368         0           $11000.40             $409.68   \n",
       "\n",
       "  Average Basic Life Average Benefit Cost Benefits Plan  \\\n",
       "0              $0.00            $18124.69           DWP   \n",
       "1            $191.04            $12740.52        Police   \n",
       "2            $191.04            $12740.52        Police   \n",
       "3             $11.40            $11126.88          City   \n",
       "4             $11.40            $11421.48          City   \n",
       "\n",
       "                            Job Class Link  \n",
       "0  http://per.lacity.org/perspecs/1230.pdf  \n",
       "1  http://per.lacity.org/perspecs/2214.pdf  \n",
       "2  http://per.lacity.org/perspecs/2214.pdf  \n",
       "3  http://per.lacity.org/perspecs/3184.pdf  \n",
       "4  http://per.lacity.org/perspecs/1368.pdf  \n",
       "\n",
       "[5 rows x 35 columns]"
      ]
     },
     "execution_count": 5,
     "metadata": {},
     "output_type": "execute_result"
    }
   ],
   "source": [
    "df.head()"
   ]
  },
  {
   "cell_type": "code",
   "execution_count": 6,
   "id": "acf5cf53",
   "metadata": {},
   "outputs": [
    {
     "data": {
      "text/plain": [
       "(285008, 35)"
      ]
     },
     "execution_count": 6,
     "metadata": {},
     "output_type": "execute_result"
    }
   ],
   "source": [
    "df.shape"
   ]
  },
  {
   "cell_type": "markdown",
   "id": "4986bda0",
   "metadata": {},
   "source": [
    "#  Hypothesis testing methods such as\n",
    "\n",
    "Normal Distribution,\n",
    "Student t Distribution,\n",
    "ANOVA"
   ]
  },
  {
   "cell_type": "code",
   "execution_count": 8,
   "id": "47cb7051",
   "metadata": {},
   "outputs": [],
   "source": [
    "import statistics\n",
    "import seaborn as sns\n",
    "import matplotlib.pyplot as plt\n",
    "from scipy import stats"
   ]
  },
  {
   "cell_type": "markdown",
   "id": "aca6342c",
   "metadata": {},
   "source": [
    "# Data Cleansing"
   ]
  },
  {
   "cell_type": "code",
   "execution_count": 10,
   "id": "068b3d17",
   "metadata": {},
   "outputs": [],
   "source": [
    "df = df[pd.notnull(df['Payroll Department'])]\n",
    "df.rename(columns={'Projected Annual Salary' : 'Annual_sal'}, inplace = True)\n",
    "df.rename(columns={'Job Class Title' : 'Job_title'}, inplace = True)\n",
    "df.rename(columns={'Base Pay' : 'Base_Pay'}, inplace = True)"
   ]
  },
  {
   "cell_type": "code",
   "execution_count": 11,
   "id": "fa102d37",
   "metadata": {},
   "outputs": [
    {
     "data": {
      "text/html": [
       "<div>\n",
       "<style scoped>\n",
       "    .dataframe tbody tr th:only-of-type {\n",
       "        vertical-align: middle;\n",
       "    }\n",
       "\n",
       "    .dataframe tbody tr th {\n",
       "        vertical-align: top;\n",
       "    }\n",
       "\n",
       "    .dataframe thead th {\n",
       "        text-align: right;\n",
       "    }\n",
       "</style>\n",
       "<table border=\"1\" class=\"dataframe\">\n",
       "  <thead>\n",
       "    <tr style=\"text-align: right;\">\n",
       "      <th></th>\n",
       "      <th>Row ID</th>\n",
       "      <th>Year</th>\n",
       "      <th>Department Title</th>\n",
       "      <th>Payroll Department</th>\n",
       "      <th>Record Number</th>\n",
       "      <th>Job_title</th>\n",
       "      <th>Employment Type</th>\n",
       "      <th>Hourly or Event Rate</th>\n",
       "      <th>Annual_sal</th>\n",
       "      <th>Q1 Payments</th>\n",
       "      <th>...</th>\n",
       "      <th>MOU Title</th>\n",
       "      <th>FMS Department</th>\n",
       "      <th>Job Class</th>\n",
       "      <th>Pay Grade</th>\n",
       "      <th>Average Health Cost</th>\n",
       "      <th>Average Dental Cost</th>\n",
       "      <th>Average Basic Life</th>\n",
       "      <th>Average Benefit Cost</th>\n",
       "      <th>Benefits Plan</th>\n",
       "      <th>Job Class Link</th>\n",
       "    </tr>\n",
       "  </thead>\n",
       "  <tbody>\n",
       "    <tr>\n",
       "      <th>1</th>\n",
       "      <td>31732</td>\n",
       "      <td>2013</td>\n",
       "      <td>Police (LAPD)</td>\n",
       "      <td>4301.0</td>\n",
       "      <td>432728338</td>\n",
       "      <td>Police Officer I</td>\n",
       "      <td>Full Time</td>\n",
       "      <td>$25.12</td>\n",
       "      <td>$52450.56</td>\n",
       "      <td>$11331.00</td>\n",
       "      <td>...</td>\n",
       "      <td>POLICE OFFICERS UNIT</td>\n",
       "      <td>70</td>\n",
       "      <td>2214</td>\n",
       "      <td>A</td>\n",
       "      <td>$11651.40</td>\n",
       "      <td>$898.08</td>\n",
       "      <td>$191.04</td>\n",
       "      <td>$12740.52</td>\n",
       "      <td>Police</td>\n",
       "      <td>http://per.lacity.org/perspecs/2214.pdf</td>\n",
       "    </tr>\n",
       "    <tr>\n",
       "      <th>2</th>\n",
       "      <td>27697</td>\n",
       "      <td>2013</td>\n",
       "      <td>Police (LAPD)</td>\n",
       "      <td>4301.0</td>\n",
       "      <td>97182506</td>\n",
       "      <td>Police Officer II</td>\n",
       "      <td>Full Time</td>\n",
       "      <td>$42.77</td>\n",
       "      <td>$89303.76</td>\n",
       "      <td>$20036.32</td>\n",
       "      <td>...</td>\n",
       "      <td>POLICE OFFICERS UNIT</td>\n",
       "      <td>70</td>\n",
       "      <td>2214</td>\n",
       "      <td>2</td>\n",
       "      <td>$11651.40</td>\n",
       "      <td>$898.08</td>\n",
       "      <td>$191.04</td>\n",
       "      <td>$12740.52</td>\n",
       "      <td>Police</td>\n",
       "      <td>http://per.lacity.org/perspecs/2214.pdf</td>\n",
       "    </tr>\n",
       "    <tr>\n",
       "      <th>3</th>\n",
       "      <td>14136</td>\n",
       "      <td>2013</td>\n",
       "      <td>Harbor (Port of LA)</td>\n",
       "      <td>3201.0</td>\n",
       "      <td>950136941</td>\n",
       "      <td>Senior Security Officer</td>\n",
       "      <td>Full Time</td>\n",
       "      <td>$28.75</td>\n",
       "      <td>$60028.96</td>\n",
       "      <td>$15793.88</td>\n",
       "      <td>...</td>\n",
       "      <td>SUPV BLUE COLLAR</td>\n",
       "      <td>42</td>\n",
       "      <td>3184</td>\n",
       "      <td>0</td>\n",
       "      <td>$10710.24</td>\n",
       "      <td>$405.24</td>\n",
       "      <td>$11.40</td>\n",
       "      <td>$11126.88</td>\n",
       "      <td>City</td>\n",
       "      <td>http://per.lacity.org/perspecs/3184.pdf</td>\n",
       "    </tr>\n",
       "    <tr>\n",
       "      <th>4</th>\n",
       "      <td>91896</td>\n",
       "      <td>2014</td>\n",
       "      <td>Public Works - Sanitation</td>\n",
       "      <td>7024.0</td>\n",
       "      <td>3230003445</td>\n",
       "      <td>Senior Clerk Typist</td>\n",
       "      <td>Full Time</td>\n",
       "      <td>$30.92</td>\n",
       "      <td>$64553.13</td>\n",
       "      <td>$14700.00</td>\n",
       "      <td>...</td>\n",
       "      <td>CLERICAL UNIT</td>\n",
       "      <td>82</td>\n",
       "      <td>1368</td>\n",
       "      <td>0</td>\n",
       "      <td>$11000.40</td>\n",
       "      <td>$409.68</td>\n",
       "      <td>$11.40</td>\n",
       "      <td>$11421.48</td>\n",
       "      <td>City</td>\n",
       "      <td>http://per.lacity.org/perspecs/1368.pdf</td>\n",
       "    </tr>\n",
       "    <tr>\n",
       "      <th>6</th>\n",
       "      <td>59695</td>\n",
       "      <td>2014</td>\n",
       "      <td>Airports (LAWA)</td>\n",
       "      <td>101.0</td>\n",
       "      <td>4237826094</td>\n",
       "      <td>Custodian - Airports</td>\n",
       "      <td>Full Time</td>\n",
       "      <td>$22.95</td>\n",
       "      <td>$47911.51</td>\n",
       "      <td>$13493.87</td>\n",
       "      <td>...</td>\n",
       "      <td>SERVICE EMPLOYEES UNIT</td>\n",
       "      <td>4</td>\n",
       "      <td>3156</td>\n",
       "      <td>A</td>\n",
       "      <td>$11000.40</td>\n",
       "      <td>$409.68</td>\n",
       "      <td>$11.40</td>\n",
       "      <td>$11421.48</td>\n",
       "      <td>City</td>\n",
       "      <td>http://per.lacity.org/perspecs/3156.pdf</td>\n",
       "    </tr>\n",
       "  </tbody>\n",
       "</table>\n",
       "<p>5 rows × 35 columns</p>\n",
       "</div>"
      ],
      "text/plain": [
       "   Row ID  Year           Department Title  Payroll Department Record Number  \\\n",
       "1   31732  2013              Police (LAPD)              4301.0     432728338   \n",
       "2   27697  2013              Police (LAPD)              4301.0      97182506   \n",
       "3   14136  2013        Harbor (Port of LA)              3201.0     950136941   \n",
       "4   91896  2014  Public Works - Sanitation              7024.0    3230003445   \n",
       "6   59695  2014            Airports (LAWA)               101.0    4237826094   \n",
       "\n",
       "                 Job_title Employment Type Hourly or Event Rate Annual_sal  \\\n",
       "1         Police Officer I       Full Time               $25.12  $52450.56   \n",
       "2        Police Officer II       Full Time               $42.77  $89303.76   \n",
       "3  Senior Security Officer       Full Time               $28.75  $60028.96   \n",
       "4      Senior Clerk Typist       Full Time               $30.92  $64553.13   \n",
       "6     Custodian - Airports       Full Time               $22.95  $47911.51   \n",
       "\n",
       "  Q1 Payments  ...               MOU Title FMS Department Job Class Pay Grade  \\\n",
       "1   $11331.00  ...    POLICE OFFICERS UNIT             70      2214         A   \n",
       "2   $20036.32  ...    POLICE OFFICERS UNIT             70      2214         2   \n",
       "3   $15793.88  ...        SUPV BLUE COLLAR             42      3184         0   \n",
       "4   $14700.00  ...           CLERICAL UNIT             82      1368         0   \n",
       "6   $13493.87  ...  SERVICE EMPLOYEES UNIT              4      3156         A   \n",
       "\n",
       "  Average Health Cost Average Dental Cost Average Basic Life  \\\n",
       "1           $11651.40             $898.08            $191.04   \n",
       "2           $11651.40             $898.08            $191.04   \n",
       "3           $10710.24             $405.24             $11.40   \n",
       "4           $11000.40             $409.68             $11.40   \n",
       "6           $11000.40             $409.68             $11.40   \n",
       "\n",
       "  Average Benefit Cost Benefits Plan                           Job Class Link  \n",
       "1            $12740.52        Police  http://per.lacity.org/perspecs/2214.pdf  \n",
       "2            $12740.52        Police  http://per.lacity.org/perspecs/2214.pdf  \n",
       "3            $11126.88          City  http://per.lacity.org/perspecs/3184.pdf  \n",
       "4            $11421.48          City  http://per.lacity.org/perspecs/1368.pdf  \n",
       "6            $11421.48          City  http://per.lacity.org/perspecs/3156.pdf  \n",
       "\n",
       "[5 rows x 35 columns]"
      ]
     },
     "execution_count": 11,
     "metadata": {},
     "output_type": "execute_result"
    }
   ],
   "source": [
    "df.head()"
   ]
  },
  {
   "cell_type": "code",
   "execution_count": 22,
   "id": "a0b44df7",
   "metadata": {},
   "outputs": [],
   "source": [
    "# removing $ sighn with sapce\n",
    "for i in ['Annual_sal','Q1 Payments','Q2 Payments','Q3 Payments','Q4 Payments','Payments Over Base Pay',\n",
    "          'Total Payments','Base_Pay','Permanent Bonus Pay','Longevity Bonus Pay','Temporary Bonus Pay','Overtime Pay',\n",
    "          'Other Pay & Adjustments','Other Pay (Payroll Explorer)','Average Health Cost','Average Dental Cost',\n",
    "          'Average Basic Life','Average Benefit Cost']:\n",
    "    df[i] = df[i].str.replace('$','')"
   ]
  },
  {
   "cell_type": "code",
   "execution_count": 23,
   "id": "67f7e842",
   "metadata": {},
   "outputs": [],
   "source": [
    "l=list(df.columns)"
   ]
  },
  {
   "cell_type": "code",
   "execution_count": 25,
   "id": "7c548aa4",
   "metadata": {},
   "outputs": [],
   "source": [
    "# outlier\n",
    "df = df[df.Annual_sal != 0]  \n",
    "df = df[df.Base_Pay != 0]\n",
    "df.Annual_sal = df.Annual_sal.astype(float)\n",
    "df.Base_Pay = df.Base_Pay.astype(float)"
   ]
  },
  {
   "cell_type": "code",
   "execution_count": 26,
   "id": "4e96f60e",
   "metadata": {},
   "outputs": [
    {
     "data": {
      "text/plain": [
       "<Axes: xlabel='Annual_sal', ylabel='Density'>"
      ]
     },
     "execution_count": 26,
     "metadata": {},
     "output_type": "execute_result"
    },
    {
     "data": {
      "image/png": "[encoded data removed]",
      "text/plain": [
       "<Figure size 1200x600 with 1 Axes>"
      ]
     },
     "metadata": {},
     "output_type": "display_data"
    }
   ],
   "source": [
    "plt.figure(figsize = (12,6))\n",
    "sns.distplot(df.Annual_sal,color = 'darkgreen')"
   ]
  },
  {
   "cell_type": "code",
   "execution_count": 28,
   "id": "153aa243",
   "metadata": {},
   "outputs": [],
   "source": [
    "#creating different saample from population\n",
    "payroll_2015 = df[df.Year ==2015]\n",
    "payroll_2016 = df[df.Year ==2016]"
   ]
  },
  {
   "cell_type": "code",
   "execution_count": 29,
   "id": "0cdd3cc9",
   "metadata": {},
   "outputs": [
    {
     "name": "stdout",
     "output_type": "stream",
     "text": [
      "Population Mean: 76046.39152504776\n",
      "Population Standard Deviation: 34232.25489729045\n"
     ]
    }
   ],
   "source": [
    "#Calculating the Population Parameters\n",
    "pop_mean_2015 = payroll_2015['Annual_sal'].mean()\n",
    "pop_std_2015 = statistics.stdev(payroll_2015.Annual_sal)\n",
    "print(\"Population Mean: \"+str(pop_mean_2015))\n",
    "print(\"Population Standard Deviation: \"+str(pop_std_2015))"
   ]
  },
  {
   "cell_type": "code",
   "execution_count": 30,
   "id": "612a5d33",
   "metadata": {},
   "outputs": [
    {
     "name": "stdout",
     "output_type": "stream",
     "text": [
      "Population Mean: 78711.19987224769\n",
      "Sample Mean: 78819.38349837933\n",
      "Sample Standard Deviation: 33039.18353492935\n"
     ]
    }
   ],
   "source": [
    "#for sample parameter\n",
    "print(\"Population Mean: \"+str(payroll_2016['Annual_sal'].mean()))\n",
    "payroll_2016_sample = payroll_2016.sample(frac=0.10)\n",
    "sample_mean_2016 = payroll_2016_sample['Annual_sal'].mean()\n",
    "print(\"Sample Mean: \"+str(sample_mean_2016))\n",
    "sample_std_2016 = statistics.stdev(payroll_2016_sample.Annual_sal)\n",
    "print(\"Sample Standard Deviation: \"+str(sample_std_2016))"
   ]
  },
  {
   "cell_type": "markdown",
   "id": "2562b61a",
   "metadata": {},
   "source": [
    "Normal distribution\n",
    "\n",
    "Null Hypothesis : Pay does not increase in 2016\n",
    "Alternate Hypothesis: It increases\n",
    "Population parameters: Mean = pop_mean_2015, standard deviation = pop_std_2015\n",
    "Sample parameters : Mean = sample_mean_2016, standard deviation = sample_std_2016"
   ]
  },
  {
   "cell_type": "code",
   "execution_count": 31,
   "id": "f2e09546",
   "metadata": {},
   "outputs": [
    {
     "name": "stdout",
     "output_type": "stream",
     "text": [
      "7.925092426681871\n"
     ]
    }
   ],
   "source": [
    "import math\n",
    "# Confidence Level 95 %  for one sided Normal curve\n",
    "zscore_critical = 1.65 \n",
    "# Calculate the test statistics \n",
    "zscore_test_stat = ((sample_mean_2016 - pop_mean_2015)*math.sqrt(8916))/sample_std_2016\n",
    "print(zscore_test_stat)"
   ]
  },
  {
   "cell_type": "markdown",
   "id": "1189821e",
   "metadata": {},
   "source": [
    "Conclusion: As the test statistics fall into the rejection region the null hypothesis is rejected\n",
    "and it can be concluded that the Annual salaries increase in 2016.\n",
    "However, we will first check for the Type 1 and Type 2 Errors"
   ]
  },
  {
   "cell_type": "code",
   "execution_count": 33,
   "id": "7bff20fc",
   "metadata": {},
   "outputs": [
    {
     "name": "stdout",
     "output_type": "stream",
     "text": [
      "0.07937359898023319\n"
     ]
    }
   ],
   "source": [
    "# we are basically checking the true value of the population characteristics\n",
    "pop_mean_2016 = payroll_2016['Annual_sal'].mean()\n",
    "pop_std_2016 = statistics.stdev(payroll_2016.Annual_sal)\n",
    "\n",
    "zscore_error = ((pop_mean_2016 - pop_mean_2015)/pop_std_2016)\n",
    "print(zscore_error)"
   ]
  },
  {
   "cell_type": "markdown",
   "id": "900a966b",
   "metadata": {},
   "source": [
    "Student T-distribution\n",
    "Null Hypothesis: pay does not increase in 2016\n",
    "Alternate Hypothesis: it increases\n",
    "Population parameters: Mean = pop_mean_2015, standard deviation = pop_std_2015\n",
    "Sample parameters : Mean = sample_mean_2016, standard deviation = sample_std_2016"
   ]
  },
  {
   "cell_type": "code",
   "execution_count": 35,
   "id": "4d6dc5a8",
   "metadata": {},
   "outputs": [],
   "source": [
    "#Calculating the Sample Parameters**\n",
    "payroll_2014 = df[df.Year ==2014]\n",
    "payroll_2015 = df[df.Year ==2015]\n",
    "# Creating Sample distribution for T statistics\n",
    "payroll_t_2015_sample = payroll_2015.sample(frac=0.00062)"
   ]
  },
  {
   "cell_type": "code",
   "execution_count": 36,
   "id": "5ae42cad",
   "metadata": {},
   "outputs": [],
   "source": [
    "payroll_t_2015_sample = payroll_2015.sample(frac=0.00062)\n",
    "N = len(payroll_t_2015_sample)\n",
    "sample_mean_2015 = payroll_t_2015_sample['Annual_sal'].mean()\n",
    "sample_std_2015 = statistics.stdev(payroll_t_2015_sample.Annual_sal)\n",
    "pop_std_2014  = statistics.stdev(payroll_2014.Annual_sal)\n",
    "pop_mean_2014 = payroll_2014['Annual_sal'].mean()"
   ]
  },
  {
   "cell_type": "code",
   "execution_count": 37,
   "id": "6d7f5b6d",
   "metadata": {},
   "outputs": [
    {
     "name": "stdout",
     "output_type": "stream",
     "text": [
      "-1.5908419093800303\n"
     ]
    }
   ],
   "source": [
    "# Confidence Level 95 %  for one sided T curve\n",
    "t_critical = 1.311\n",
    "\n",
    "# Calculate the test statistics \n",
    "tscore_test_stat = ((sample_mean_2015 - pop_mean_2014)*math.sqrt(N))/sample_std_2015\n",
    "\n",
    "print(tscore_test_stat)"
   ]
  },
  {
   "cell_type": "code",
   "execution_count": 38,
   "id": "9ce1a8de",
   "metadata": {},
   "outputs": [
    {
     "name": "stdout",
     "output_type": "stream",
     "text": [
      "Sample Mean 2014 74696.716\n",
      "Sample Mean 2015 73676.58714285716\n",
      "Sample Mean 2016 33153.98057142857\n"
     ]
    }
   ],
   "source": [
    "payroll_2014 = df[df.Year ==2014]\n",
    "payroll_2014_elec = payroll_2014[payroll_2014.Job_title == 'Electrician']\n",
    "payroll_2015_elec = payroll_2015[payroll_2015.Job_title == 'Electrician']\n",
    "payroll_2016_elec = payroll_2016[payroll_2016.Job_title == 'Electrician']\n",
    "sample_elec_2014 = payroll_2014_elec.sample(frac=0.47)\n",
    "sample_elec_mean_2014 = sample_elec_2014['Base_Pay'].mean()\n",
    "print(\"Sample Mean 2014 \"+str(sample_elec_mean_2014))\n",
    "sample_elec_2015 = payroll_2015_elec.sample(frac=0.41)\n",
    "sample_elec_mean_2015 = sample_elec_2015['Base_Pay'].mean()\n",
    "print(\"Sample Mean 2015 \"+str(sample_elec_mean_2015))\n",
    "sample_elec_2016 = payroll_2016_elec.sample(frac=0.22)\n",
    "sample_elec_mean_2016 = sample_elec_2016['Base_Pay'].mean()\n",
    "print(\"Sample Mean 2016 \"+str(sample_elec_mean_2016))\n",
    "# Creating the Samples of the base pays over three years\n",
    "sam_1 = sample_elec_2014.Base_Pay\n",
    "sam_2 = sample_elec_2015.Base_Pay\n",
    "sam_3 = sample_elec_2016.Base_Pay"
   ]
  },
  {
   "cell_type": "code",
   "execution_count": 39,
   "id": "16da69df",
   "metadata": {},
   "outputs": [
    {
     "name": "stdout",
     "output_type": "stream",
     "text": [
      "F value: 60.04466093897125\n",
      "P value: 5.8303842776046695e-18 \n",
      "\n"
     ]
    }
   ],
   "source": [
    "f, p = stats.f_oneway(sam_1, sam_2, sam_3 )\n",
    "print ('F value:', f)\n",
    "print ('P value:', p, '\\n')"
   ]
  },
  {
   "cell_type": "markdown",
   "id": "bad61752",
   "metadata": {},
   "source": [
    "# Predictive Analysis using Machine Learning"
   ]
  },
  {
   "cell_type": "code",
   "execution_count": 41,
   "id": "d44853bf",
   "metadata": {},
   "outputs": [],
   "source": [
    "# Transform the qualitative data into vectors\n",
    "from sklearn.feature_extraction.text import TfidfVectorizer\n",
    "vect = TfidfVectorizer(stop_words = 'english')\n",
    "dtm = vect.fit_transform(df.Job_title)"
   ]
  },
  {
   "cell_type": "markdown",
   "id": "4471ad5b",
   "metadata": {},
   "source": [
    "# Split the data into training and testing datasets"
   ]
  },
  {
   "cell_type": "code",
   "execution_count": 44,
   "id": "a19589d3",
   "metadata": {},
   "outputs": [],
   "source": [
    "from sklearn.model_selection import train_test_split\n",
    "\n",
    "X = dtm\n",
    "y = df.Annual_sal\n",
    "\n",
    "X_train, X_test, y_train, y_test = train_test_split(X, y, random_state = 100)"
   ]
  },
  {
   "cell_type": "markdown",
   "id": "270c11e8",
   "metadata": {},
   "source": [
    "Random Forest Regressor : It is a form of ensemble learning, it uses many randomized decision trees to\n",
    "predict the outcome, hence the name.\n",
    "\n",
    "Regression is used to predict continous variables whereas Classification is used for predicting\n",
    "discrete values"
   ]
  },
  {
   "cell_type": "code",
   "execution_count": 45,
   "id": "2cf63433",
   "metadata": {},
   "outputs": [
    {
     "data": {
      "text/html": [
       "<style>#sk-container-id-1 {color: black;}#sk-container-id-1 pre{padding: 0;}#sk-container-id-1 div.sk-toggleable {background-color: white;}#sk-container-id-1 label.sk-toggleable__label {cursor: pointer;display: block;width: 100%;margin-bottom: 0;padding: 0.3em;box-sizing: border-box;text-align: center;}#sk-container-id-1 label.sk-toggleable__label-arrow:before {content: \"▸\";float: left;margin-right: 0.25em;color: #696969;}#sk-container-id-1 label.sk-toggleable__label-arrow:hover:before {color: black;}#sk-container-id-1 div.sk-estimator:hover label.sk-toggleable__label-arrow:before {color: black;}#sk-container-id-1 div.sk-toggleable__content {max-height: 0;max-width: 0;overflow: hidden;text-align: left;background-color: #f0f8ff;}#sk-container-id-1 div.sk-toggleable__content pre {margin: 0.2em;color: black;border-radius: 0.25em;background-color: #f0f8ff;}#sk-container-id-1 input.sk-toggleable__control:checked~div.sk-toggleable__content {max-height: 200px;max-width: 100%;overflow: auto;}#sk-container-id-1 input.sk-toggleable__control:checked~label.sk-toggleable__label-arrow:before {content: \"▾\";}#sk-container-id-1 div.sk-estimator input.sk-toggleable__control:checked~label.sk-toggleable__label {background-color: #d4ebff;}#sk-container-id-1 div.sk-label input.sk-toggleable__control:checked~label.sk-toggleable__label {background-color: #d4ebff;}#sk-container-id-1 input.sk-hidden--visually {border: 0;clip: rect(1px 1px 1px 1px);clip: rect(1px, 1px, 1px, 1px);height: 1px;margin: -1px;overflow: hidden;padding: 0;position: absolute;width: 1px;}#sk-container-id-1 div.sk-estimator {font-family: monospace;background-color: #f0f8ff;border: 1px dotted black;border-radius: 0.25em;box-sizing: border-box;margin-bottom: 0.5em;}#sk-container-id-1 div.sk-estimator:hover {background-color: #d4ebff;}#sk-container-id-1 div.sk-parallel-item::after {content: \"\";width: 100%;border-bottom: 1px solid gray;flex-grow: 1;}#sk-container-id-1 div.sk-label:hover label.sk-toggleable__label {background-color: #d4ebff;}#sk-container-id-1 div.sk-serial::before {content: \"\";position: absolute;border-left: 1px solid gray;box-sizing: border-box;top: 0;bottom: 0;left: 50%;z-index: 0;}#sk-container-id-1 div.sk-serial {display: flex;flex-direction: column;align-items: center;background-color: white;padding-right: 0.2em;padding-left: 0.2em;position: relative;}#sk-container-id-1 div.sk-item {position: relative;z-index: 1;}#sk-container-id-1 div.sk-parallel {display: flex;align-items: stretch;justify-content: center;background-color: white;position: relative;}#sk-container-id-1 div.sk-item::before, #sk-container-id-1 div.sk-parallel-item::before {content: \"\";position: absolute;border-left: 1px solid gray;box-sizing: border-box;top: 0;bottom: 0;left: 50%;z-index: -1;}#sk-container-id-1 div.sk-parallel-item {display: flex;flex-direction: column;z-index: 1;position: relative;background-color: white;}#sk-container-id-1 div.sk-parallel-item:first-child::after {align-self: flex-end;width: 50%;}#sk-container-id-1 div.sk-parallel-item:last-child::after {align-self: flex-start;width: 50%;}#sk-container-id-1 div.sk-parallel-item:only-child::after {width: 0;}#sk-container-id-1 div.sk-dashed-wrapped {border: 1px dashed gray;margin: 0 0.4em 0.5em 0.4em;box-sizing: border-box;padding-bottom: 0.4em;background-color: white;}#sk-container-id-1 div.sk-label label {font-family: monospace;font-weight: bold;display: inline-block;line-height: 1.2em;}#sk-container-id-1 div.sk-label-container {text-align: center;}#sk-container-id-1 div.sk-container {/* jupyter's `normalize.less` sets `[hidden] { display: none; }` but bootstrap.min.css set `[hidden] { display: none !important; }` so we also need the `!important` here to be able to override the default hidden behavior on the sphinx rendered scikit-learn.org. See: https://github.com/scikit-learn/scikit-learn/issues/21755 */display: inline-block !important;position: relative;}#sk-container-id-1 div.sk-text-repr-fallback {display: none;}</style><div id=\"sk-container-id-1\" class=\"sk-top-container\"><div class=\"sk-text-repr-fallback\"><pre>RandomForestRegressor()</pre><b>In a Jupyter environment, please rerun this cell to show the HTML representation or trust the notebook. <br />On GitHub, the HTML representation is unable to render, please try loading this page with nbviewer.org.</b></div><div class=\"sk-container\" hidden><div class=\"sk-item\"><div class=\"sk-estimator sk-toggleable\"><input class=\"sk-toggleable__control sk-hidden--visually\" id=\"sk-estimator-id-1\" type=\"checkbox\" checked><label for=\"sk-estimator-id-1\" class=\"sk-toggleable__label sk-toggleable__label-arrow\">RandomForestRegressor</label><div class=\"sk-toggleable__content\"><pre>RandomForestRegressor()</pre></div></div></div></div></div>"
      ],
      "text/plain": [
       "RandomForestRegressor()"
      ]
     },
     "execution_count": 45,
     "metadata": {},
     "output_type": "execute_result"
    }
   ],
   "source": [
    "from sklearn.ensemble import RandomForestRegressor\n",
    "\n",
    "clf = RandomForestRegressor()\n",
    "clf.fit(X_train, y_train)"
   ]
  },
  {
   "cell_type": "code",
   "execution_count": 46,
   "id": "dc404859",
   "metadata": {},
   "outputs": [
    {
     "name": "stdout",
     "output_type": "stream",
     "text": [
      "Root mean Score Training: 0.9599963772851616\n",
      "Root mean Score Testing: 0.9583110178551691\n"
     ]
    }
   ],
   "source": [
    "from sklearn.metrics import r2_score, mean_squared_error\n",
    "\n",
    "pred_train = clf.predict(X_train)\n",
    "pred_test = clf.predict(X_test)\n",
    "\n",
    "print('Root mean Score Training: {}'.format(r2_score(y_train, pred_train)))\n",
    "print('Root mean Score Testing: {}'.format(r2_score(y_test, pred_test)))"
   ]
  },
  {
   "cell_type": "markdown",
   "id": "28323b9d",
   "metadata": {},
   "source": [
    "Visualization for training and testing data prediction accuracy"
   ]
  },
  {
   "cell_type": "code",
   "execution_count": 47,
   "id": "3ea3e0d2",
   "metadata": {},
   "outputs": [
    {
     "data": {
      "image/png": "[encoded data removed]",
      "text/plain": [
       "<Figure size 1200x600 with 2 Axes>"
      ]
     },
     "metadata": {},
     "output_type": "display_data"
    }
   ],
   "source": [
    "plt.figure(figsize=(12,6))\n",
    "plt.subplot(1,2,1)\n",
    "plt.plot(np.arange(len(pred_train)), y_train - pred_train,'o')\n",
    "plt.axhline(0)\n",
    "plt.subplot(1,2,2)\n",
    "plt.plot(np.arange(len(pred_test)), y_test - pred_test,'o')\n",
    "plt.axhline(0)\n",
    "plt.tight_layout()"
   ]
  },
  {
   "cell_type": "code",
   "execution_count": 49,
   "id": "dd7671f0",
   "metadata": {},
   "outputs": [],
   "source": [
    "#Linear Regression\n",
    "# Selecting the features and creating train test split\n",
    "y = df[\"Average Benefit Cost\"]\n",
    "X = df[['Annual_sal','Q1 Payments','Q2 Payments','Q3 Payments','Q4 Payments']].copy()\n",
    "X_train, X_test, y_train, y_test = train_test_split(X, y, test_size=0.4)"
   ]
  },
  {
   "cell_type": "code",
   "execution_count": 50,
   "id": "6302e782",
   "metadata": {},
   "outputs": [
    {
     "name": "stdout",
     "output_type": "stream",
     "text": [
      "3207.4164021306024\n"
     ]
    }
   ],
   "source": [
    "from sklearn.linear_model import LinearRegression\n",
    "lm = LinearRegression()\n",
    "lm.fit(X_train,y_train)\n",
    "print(lm.intercept_)"
   ]
  },
  {
   "cell_type": "code",
   "execution_count": 52,
   "id": "e1d0f341",
   "metadata": {},
   "outputs": [
    {
     "name": "stdout",
     "output_type": "stream",
     "text": [
      "             Coefficient\n",
      "Q1 Payments     0.165847\n",
      "Q4 Payments     0.053520\n",
      "Annual_sal      0.032575\n",
      "Q2 Payments     0.032318\n",
      "Q3 Payments    -0.036427\n"
     ]
    }
   ],
   "source": [
    "coeff_df = pd.DataFrame(lm.coef_,X.columns,columns=['Coefficient'])\n",
    "ranked_suburbs = coeff_df.sort_values(\"Coefficient\", ascending = False)\n",
    "print(ranked_suburbs)\n",
    "#The coefficient suggests that it has a poor coorelation with the target, hence a poor model is expected"
   ]
  },
  {
   "cell_type": "code",
   "execution_count": 53,
   "id": "f253b6dd",
   "metadata": {},
   "outputs": [
    {
     "name": "stdout",
     "output_type": "stream",
     "text": [
      "Root mean Score Training: 0.5168500730819602\n",
      "Root mean Score Testing: 0.520488238666156\n"
     ]
    }
   ],
   "source": [
    "pred_train = lm.predict(X_train)\n",
    "pred_test = lm.predict(X_test)\n",
    "print('Root mean Score Training: {}'.format(r2_score(y_train, pred_train)))\n",
    "print('Root mean Score Testing: {}'.format(r2_score(y_test, pred_test)))"
   ]
  },
  {
   "cell_type": "code",
   "execution_count": 54,
   "id": "ffc0f3f5",
   "metadata": {},
   "outputs": [],
   "source": [
    "#Processing for creating Best Fit Line\n",
    "new = pd.Series(list(y_test)).values\n",
    "new_list =[]\n",
    "for i in range(len(new)):\n",
    "    new_list.insert(i,new[i])\n",
    "new_list = [float(q) for q in new_list]\n",
    "new_list = [round(q) for q in new_list]\n",
    "pred_test = [float(q) for q in pred_test]\n",
    "pred_test = [round(q) for q in pred_test]"
   ]
  },
  {
   "cell_type": "code",
   "execution_count": 55,
   "id": "cca6b71f",
   "metadata": {},
   "outputs": [],
   "source": [
    "# Logic for finding the line of best split\n",
    "def best_fit(X, Y):\n",
    "\n",
    "    xbar = sum(X)/len(X)\n",
    "    ybar = sum(Y)/len(Y)\n",
    "    n = len(X) # or len(Y)\n",
    "\n",
    "    numer = sum([xi*yi for xi,yi in zip(X, Y)]) - n * xbar * ybar\n",
    "    denum = sum([xi**2 for xi in X]) - n * xbar**2\n",
    "    b = numer/denum\n",
    "    a = ybar - b * xbar\n",
    "    print('best fit line:\\ny = {:.2f} + {:.2f}x'.format(a, b))\n",
    "    return(a,b)"
   ]
  },
  {
   "cell_type": "code",
   "execution_count": 56,
   "id": "40cbde2a",
   "metadata": {},
   "outputs": [
    {
     "name": "stdout",
     "output_type": "stream",
     "text": [
      "best fit line:\n",
      "y = 4680.65 + 0.52x\n"
     ]
    }
   ],
   "source": [
    "a, b = best_fit(new_list, pred_test)"
   ]
  },
  {
   "cell_type": "code",
   "execution_count": 57,
   "id": "dbce4425",
   "metadata": {},
   "outputs": [
    {
     "data": {
      "text/plain": [
       "[<matplotlib.lines.Line2D at 0x1e9cd145250>]"
      ]
     },
     "execution_count": 57,
     "metadata": {},
     "output_type": "execute_result"
    },
    {
     "data": {
      "image/png": "[encoded data removed]",
      "text/plain": [
       "<Figure size 640x480 with 1 Axes>"
      ]
     },
     "metadata": {},
     "output_type": "display_data"
    }
   ],
   "source": [
    "plt.scatter(new_list, pred_test)\n",
    "yfit = [a + b * xi for xi in new_list]\n",
    "plt.plot(new_list, yfit)"
   ]
  },
  {
   "cell_type": "code",
   "execution_count": null,
   "id": "7a33cf70",
   "metadata": {},
   "outputs": [],
   "source": []
  }
 ],
 "metadata": {
  "kernelspec": {
   "display_name": "Python 3 (ipykernel)",
   "language": "python",
   "name": "python3"
  },
  "language_info": {
   "codemirror_mode": {
    "name": "ipython",
    "version": 3
   },
   "file_extension": ".py",
   "mimetype": "text/x-python",
   "name": "python",
   "nbconvert_exporter": "python",
   "pygments_lexer": "ipython3",
   "version": "3.11.4"
  }
 },
 "nbformat": 4,
 "nbformat_minor": 5
}
